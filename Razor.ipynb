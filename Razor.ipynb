{
 "cells": [
  {
   "cell_type": "code",
   "execution_count": 115,
   "id": "c7e6473c-c02b-433d-ad03-fcbb8d2a7c2c",
   "metadata": {},
   "outputs": [
    {
     "data": {
      "text/html": [
       "<div>\n",
       "<style scoped>\n",
       "    .dataframe tbody tr th:only-of-type {\n",
       "        vertical-align: middle;\n",
       "    }\n",
       "\n",
       "    .dataframe tbody tr th {\n",
       "        vertical-align: top;\n",
       "    }\n",
       "\n",
       "    .dataframe thead th {\n",
       "        text-align: right;\n",
       "    }\n",
       "</style>\n",
       "<table border=\"1\" class=\"dataframe\">\n",
       "  <thead>\n",
       "    <tr style=\"text-align: right;\">\n",
       "      <th></th>\n",
       "      <th>Batch Number</th>\n",
       "      <th>Date Created</th>\n",
       "      <th>Last Modified</th>\n",
       "      <th>Purchase order</th>\n",
       "      <th>Incoterms</th>\n",
       "      <th>Shipment Method</th>\n",
       "      <th>Delivery Location</th>\n",
       "      <th>Production ready date</th>\n",
       "    </tr>\n",
       "  </thead>\n",
       "  <tbody>\n",
       "    <tr>\n",
       "      <th>0</th>\n",
       "      <td>Batch-326780</td>\n",
       "      <td>02.08.2024 12:13</td>\n",
       "      <td>02.08.2024 12:13</td>\n",
       "      <td>Purchase Order #1075467</td>\n",
       "      <td>EXW</td>\n",
       "      <td>Air</td>\n",
       "      <td>Maple Logistics Hub</td>\n",
       "      <td>08.08.2024</td>\n",
       "    </tr>\n",
       "    <tr>\n",
       "      <th>1</th>\n",
       "      <td>Batch-326779</td>\n",
       "      <td>02.08.2024 12:06</td>\n",
       "      <td>02.08.2024 12:06</td>\n",
       "      <td>Purchase Order #1075467</td>\n",
       "      <td>EXW</td>\n",
       "      <td>Ocean</td>\n",
       "      <td>Stellar Fulfillment Center</td>\n",
       "      <td>01.11.2024</td>\n",
       "    </tr>\n",
       "    <tr>\n",
       "      <th>2</th>\n",
       "      <td>Batch-326778</td>\n",
       "      <td>02.08.2024 10:57</td>\n",
       "      <td>02.08.2024 10:57</td>\n",
       "      <td>Purchase Order #1075875</td>\n",
       "      <td>FOB</td>\n",
       "      <td>Ocean</td>\n",
       "      <td>Apex Distribution Services</td>\n",
       "      <td>20.07.2024</td>\n",
       "    </tr>\n",
       "    <tr>\n",
       "      <th>3</th>\n",
       "      <td>Batch-326778</td>\n",
       "      <td>02.08.2024 10:57</td>\n",
       "      <td>02.08.2024 10:57</td>\n",
       "      <td>Purchase Order #1075875</td>\n",
       "      <td>FOB</td>\n",
       "      <td>Ocean</td>\n",
       "      <td>Apex Distribution Services</td>\n",
       "      <td>20.07.2024</td>\n",
       "    </tr>\n",
       "    <tr>\n",
       "      <th>4</th>\n",
       "      <td>Batch-326778</td>\n",
       "      <td>02.08.2024 10:57</td>\n",
       "      <td>02.08.2024 10:57</td>\n",
       "      <td>Purchase Order #1075875</td>\n",
       "      <td>FOB</td>\n",
       "      <td>Ocean</td>\n",
       "      <td>Apex Distribution Services</td>\n",
       "      <td>20.07.2024</td>\n",
       "    </tr>\n",
       "  </tbody>\n",
       "</table>\n",
       "</div>"
      ],
      "text/plain": [
       "   Batch Number      Date Created     Last Modified           Purchase order  \\\n",
       "0  Batch-326780  02.08.2024 12:13  02.08.2024 12:13  Purchase Order #1075467   \n",
       "1  Batch-326779  02.08.2024 12:06  02.08.2024 12:06  Purchase Order #1075467   \n",
       "2  Batch-326778  02.08.2024 10:57  02.08.2024 10:57  Purchase Order #1075875   \n",
       "3  Batch-326778  02.08.2024 10:57  02.08.2024 10:57  Purchase Order #1075875   \n",
       "4  Batch-326778  02.08.2024 10:57  02.08.2024 10:57  Purchase Order #1075875   \n",
       "\n",
       "  Incoterms Shipment Method           Delivery Location Production ready date  \n",
       "0       EXW             Air         Maple Logistics Hub            08.08.2024  \n",
       "1       EXW           Ocean  Stellar Fulfillment Center            01.11.2024  \n",
       "2       FOB           Ocean  Apex Distribution Services            20.07.2024  \n",
       "3       FOB           Ocean  Apex Distribution Services            20.07.2024  \n",
       "4       FOB           Ocean  Apex Distribution Services            20.07.2024  "
      ]
     },
     "execution_count": 115,
     "metadata": {},
     "output_type": "execute_result"
    }
   ],
   "source": [
    "import pandas as pd\n",
    "import numpy as np\n",
    "df=pd.read_csv(\"PO batches assignment.csv\")\n",
    "df.head()"
   ]
  },
  {
   "cell_type": "code",
   "execution_count": 116,
   "id": "68ed2c05-357b-482b-884a-585ec075acd1",
   "metadata": {},
   "outputs": [
    {
     "name": "stdout",
     "output_type": "stream",
     "text": [
      "<class 'pandas.core.frame.DataFrame'>\n",
      "RangeIndex: 5050 entries, 0 to 5049\n",
      "Data columns (total 8 columns):\n",
      " #   Column                 Non-Null Count  Dtype \n",
      "---  ------                 --------------  ----- \n",
      " 0   Batch Number           5050 non-null   object\n",
      " 1   Date Created           5050 non-null   object\n",
      " 2   Last Modified          5050 non-null   object\n",
      " 3   Purchase order         5050 non-null   object\n",
      " 4   Incoterms              5050 non-null   object\n",
      " 5   Shipment Method        5050 non-null   object\n",
      " 6   Delivery Location      5050 non-null   object\n",
      " 7   Production ready date  5050 non-null   object\n",
      "dtypes: object(8)\n",
      "memory usage: 315.8+ KB\n"
     ]
    }
   ],
   "source": [
    "df.info()"
   ]
  },
  {
   "cell_type": "markdown",
   "id": "a842b90c-16a9-4cf4-b634-051f19d7aad4",
   "metadata": {},
   "source": [
    "## Total no of unique batches in the dataset"
   ]
  },
  {
   "cell_type": "code",
   "execution_count": 117,
   "id": "56fd51ea-fbb0-4931-b4c0-46e1057d78af",
   "metadata": {},
   "outputs": [],
   "source": [
    "df[\"Batch Number\"]=df[\"Batch Number\"].str[6:]"
   ]
  },
  {
   "cell_type": "code",
   "execution_count": 118,
   "id": "76754904-79f1-4a2e-bd11-cd4a6a810528",
   "metadata": {},
   "outputs": [],
   "source": [
    "df[\"Batch Number\"]=df[\"Batch Number\"].astype(int)"
   ]
  },
  {
   "cell_type": "code",
   "execution_count": 119,
   "id": "baf17b9f-3d8e-448c-86bb-24b9522697ce",
   "metadata": {},
   "outputs": [
    {
     "data": {
      "text/plain": [
       "1948"
      ]
     },
     "execution_count": 119,
     "metadata": {},
     "output_type": "execute_result"
    }
   ],
   "source": [
    "df[\"Batch Number\"].nunique()"
   ]
  },
  {
   "cell_type": "markdown",
   "id": "f6a2c13c-ae35-4b4f-be6d-e26b7ec8a312",
   "metadata": {},
   "source": [
    "## Total no of unique batches for purchase order # 1075875"
   ]
  },
  {
   "cell_type": "code",
   "execution_count": 121,
   "id": "7a1692d2-0269-46d9-bc1b-8dff3c4c51de",
   "metadata": {},
   "outputs": [],
   "source": [
    "df[\"Purchase order\"]=df[\"Purchase order\"].str[len(\"Purchase Order #\"):]"
   ]
  },
  {
   "cell_type": "code",
   "execution_count": 122,
   "id": "2e7fa063-4c24-4fe5-af73-a2c79210d69a",
   "metadata": {},
   "outputs": [],
   "source": [
    "df[\"Purchase order\"]=df[\"Purchase order\"].astype(int)"
   ]
  },
  {
   "cell_type": "code",
   "execution_count": 123,
   "id": "135c9577-f285-436d-b8d9-ab3692b60592",
   "metadata": {},
   "outputs": [
    {
     "data": {
      "text/plain": [
       "0       1075467\n",
       "1       1075467\n",
       "2       1075875\n",
       "3       1075875\n",
       "4       1075875\n",
       "         ...   \n",
       "5045    1069497\n",
       "5046    1069481\n",
       "5047    1067519\n",
       "5048    1067489\n",
       "5049    1067489\n",
       "Name: Purchase order, Length: 5050, dtype: int32"
      ]
     },
     "execution_count": 123,
     "metadata": {},
     "output_type": "execute_result"
    }
   ],
   "source": [
    "df[\"Purchase order\"]"
   ]
  },
  {
   "cell_type": "code",
   "execution_count": 124,
   "id": "d6c467f5-1d7c-43e3-94ed-95e7e30fc3cd",
   "metadata": {},
   "outputs": [
    {
     "data": {
      "text/plain": [
       "5"
      ]
     },
     "execution_count": 124,
     "metadata": {},
     "output_type": "execute_result"
    }
   ],
   "source": [
    "df1=df[df[\"Purchase order\"]==1075875]\n",
    "df1[\"Batch Number\"].nunique()"
   ]
  },
  {
   "cell_type": "code",
   "execution_count": 125,
   "id": "1dec8e16-884b-44fe-ba39-17147f570d35",
   "metadata": {},
   "outputs": [
    {
     "data": {
      "text/plain": [
       "array([326778, 326775, 326774, 326190, 325578])"
      ]
     },
     "execution_count": 125,
     "metadata": {},
     "output_type": "execute_result"
    }
   ],
   "source": [
    "df1[\"Batch Number\"].unique()"
   ]
  },
  {
   "cell_type": "markdown",
   "id": "aab8f1e1-6c20-4699-8bd4-b5f3bdd64f34",
   "metadata": {},
   "source": [
    "## Total number of unique Purchase Orders (POs) with more than 4 unique batches"
   ]
  },
  {
   "cell_type": "code",
   "execution_count": 126,
   "id": "d7f91116-46f8-4893-9737-2d710cdd12a2",
   "metadata": {},
   "outputs": [
    {
     "data": {
      "text/html": [
       "<div>\n",
       "<style scoped>\n",
       "    .dataframe tbody tr th:only-of-type {\n",
       "        vertical-align: middle;\n",
       "    }\n",
       "\n",
       "    .dataframe tbody tr th {\n",
       "        vertical-align: top;\n",
       "    }\n",
       "\n",
       "    .dataframe thead th {\n",
       "        text-align: right;\n",
       "    }\n",
       "</style>\n",
       "<table border=\"1\" class=\"dataframe\">\n",
       "  <thead>\n",
       "    <tr style=\"text-align: right;\">\n",
       "      <th></th>\n",
       "      <th>Batch Number</th>\n",
       "      <th>Date Created</th>\n",
       "      <th>Last Modified</th>\n",
       "      <th>Purchase order</th>\n",
       "      <th>Incoterms</th>\n",
       "      <th>Shipment Method</th>\n",
       "      <th>Delivery Location</th>\n",
       "      <th>Production ready date</th>\n",
       "    </tr>\n",
       "  </thead>\n",
       "  <tbody>\n",
       "    <tr>\n",
       "      <th>0</th>\n",
       "      <td>326780</td>\n",
       "      <td>02.08.2024 12:13</td>\n",
       "      <td>02.08.2024 12:13</td>\n",
       "      <td>1075467</td>\n",
       "      <td>EXW</td>\n",
       "      <td>Air</td>\n",
       "      <td>Maple Logistics Hub</td>\n",
       "      <td>08.08.2024</td>\n",
       "    </tr>\n",
       "    <tr>\n",
       "      <th>1</th>\n",
       "      <td>326779</td>\n",
       "      <td>02.08.2024 12:06</td>\n",
       "      <td>02.08.2024 12:06</td>\n",
       "      <td>1075467</td>\n",
       "      <td>EXW</td>\n",
       "      <td>Ocean</td>\n",
       "      <td>Stellar Fulfillment Center</td>\n",
       "      <td>01.11.2024</td>\n",
       "    </tr>\n",
       "  </tbody>\n",
       "</table>\n",
       "</div>"
      ],
      "text/plain": [
       "   Batch Number      Date Created     Last Modified  Purchase order Incoterms  \\\n",
       "0        326780  02.08.2024 12:13  02.08.2024 12:13         1075467       EXW   \n",
       "1        326779  02.08.2024 12:06  02.08.2024 12:06         1075467       EXW   \n",
       "\n",
       "  Shipment Method           Delivery Location Production ready date  \n",
       "0             Air         Maple Logistics Hub            08.08.2024  \n",
       "1           Ocean  Stellar Fulfillment Center            01.11.2024  "
      ]
     },
     "execution_count": 126,
     "metadata": {},
     "output_type": "execute_result"
    }
   ],
   "source": [
    "df.head(2)"
   ]
  },
  {
   "cell_type": "code",
   "execution_count": 112,
   "id": "0181bf9e-7c9e-4fd4-a654-904b7020b1e5",
   "metadata": {},
   "outputs": [
    {
     "data": {
      "text/plain": [
       "24"
      ]
     },
     "execution_count": 112,
     "metadata": {},
     "output_type": "execute_result"
    }
   ],
   "source": [
    "no_of_unique_batch_per_purchase=df.groupby(\"Purchase order\")[\"Batch Number\"].nunique()\n",
    "no_of_unique_batch_per_purchase_4=no_of_unique_batch_per_purchase[no_of_unique_batch_per_purchase>4]\n",
    "len(no_of_unique_batch_per_purchase_4)"
   ]
  },
  {
   "cell_type": "markdown",
   "id": "d9b5e5bb-1812-4dc3-801f-542608c180fd",
   "metadata": {},
   "source": [
    "##  Difference in days between the maximum and minimum Production Ready Date (PRD) for Purchase Order #1075875"
   ]
  },
  {
   "cell_type": "code",
   "execution_count": 127,
   "id": "69590c7b-6c9b-45be-819f-41ec86966b43",
   "metadata": {},
   "outputs": [
    {
     "data": {
      "text/html": [
       "<div>\n",
       "<style scoped>\n",
       "    .dataframe tbody tr th:only-of-type {\n",
       "        vertical-align: middle;\n",
       "    }\n",
       "\n",
       "    .dataframe tbody tr th {\n",
       "        vertical-align: top;\n",
       "    }\n",
       "\n",
       "    .dataframe thead th {\n",
       "        text-align: right;\n",
       "    }\n",
       "</style>\n",
       "<table border=\"1\" class=\"dataframe\">\n",
       "  <thead>\n",
       "    <tr style=\"text-align: right;\">\n",
       "      <th></th>\n",
       "      <th>Batch Number</th>\n",
       "      <th>Date Created</th>\n",
       "      <th>Last Modified</th>\n",
       "      <th>Purchase order</th>\n",
       "      <th>Incoterms</th>\n",
       "      <th>Shipment Method</th>\n",
       "      <th>Delivery Location</th>\n",
       "      <th>Production ready date</th>\n",
       "    </tr>\n",
       "  </thead>\n",
       "  <tbody>\n",
       "    <tr>\n",
       "      <th>0</th>\n",
       "      <td>326780</td>\n",
       "      <td>02.08.2024 12:13</td>\n",
       "      <td>02.08.2024 12:13</td>\n",
       "      <td>1075467</td>\n",
       "      <td>EXW</td>\n",
       "      <td>Air</td>\n",
       "      <td>Maple Logistics Hub</td>\n",
       "      <td>08.08.2024</td>\n",
       "    </tr>\n",
       "    <tr>\n",
       "      <th>1</th>\n",
       "      <td>326779</td>\n",
       "      <td>02.08.2024 12:06</td>\n",
       "      <td>02.08.2024 12:06</td>\n",
       "      <td>1075467</td>\n",
       "      <td>EXW</td>\n",
       "      <td>Ocean</td>\n",
       "      <td>Stellar Fulfillment Center</td>\n",
       "      <td>01.11.2024</td>\n",
       "    </tr>\n",
       "  </tbody>\n",
       "</table>\n",
       "</div>"
      ],
      "text/plain": [
       "   Batch Number      Date Created     Last Modified  Purchase order Incoterms  \\\n",
       "0        326780  02.08.2024 12:13  02.08.2024 12:13         1075467       EXW   \n",
       "1        326779  02.08.2024 12:06  02.08.2024 12:06         1075467       EXW   \n",
       "\n",
       "  Shipment Method           Delivery Location Production ready date  \n",
       "0             Air         Maple Logistics Hub            08.08.2024  \n",
       "1           Ocean  Stellar Fulfillment Center            01.11.2024  "
      ]
     },
     "execution_count": 127,
     "metadata": {},
     "output_type": "execute_result"
    }
   ],
   "source": [
    "df.head(2)"
   ]
  },
  {
   "cell_type": "code",
   "execution_count": 54,
   "id": "a28c7a85-431c-431a-b684-cfa77ac76c17",
   "metadata": {},
   "outputs": [
    {
     "name": "stdout",
     "output_type": "stream",
     "text": [
      "<class 'pandas.core.series.Series'>\n",
      "RangeIndex: 5050 entries, 0 to 5049\n",
      "Series name: Production ready date\n",
      "Non-Null Count  Dtype \n",
      "--------------  ----- \n",
      "5050 non-null   object\n",
      "dtypes: object(1)\n",
      "memory usage: 39.6+ KB\n"
     ]
    }
   ],
   "source": [
    "df[\"Production ready date\"].info()"
   ]
  },
  {
   "cell_type": "code",
   "execution_count": 55,
   "id": "dca7e3b1-e201-4d6f-9fb8-5eab27baaa0f",
   "metadata": {},
   "outputs": [
    {
     "name": "stderr",
     "output_type": "stream",
     "text": [
      "C:\\Users\\chinm\\AppData\\Local\\Temp\\ipykernel_30208\\450755988.py:1: UserWarning: Parsing dates in %d.%m.%Y format when dayfirst=False (the default) was specified. Pass `dayfirst=True` or specify a format to silence this warning.\n",
      "  df[\"Production ready date\"]=df[\"Production ready date\"].apply(pd.to_datetime)\n"
     ]
    }
   ],
   "source": [
    "df[\"Production ready date\"]=df[\"Production ready date\"].apply(pd.to_datetime)"
   ]
  },
  {
   "cell_type": "code",
   "execution_count": 56,
   "id": "7f84c8b4-b019-45e4-8e30-fdc9435ff09d",
   "metadata": {},
   "outputs": [
    {
     "name": "stdout",
     "output_type": "stream",
     "text": [
      "<class 'pandas.core.series.Series'>\n",
      "RangeIndex: 5050 entries, 0 to 5049\n",
      "Series name: Production ready date\n",
      "Non-Null Count  Dtype         \n",
      "--------------  -----         \n",
      "5050 non-null   datetime64[ns]\n",
      "dtypes: datetime64[ns](1)\n",
      "memory usage: 39.6 KB\n"
     ]
    }
   ],
   "source": [
    "df[\"Production ready date\"].info()"
   ]
  },
  {
   "cell_type": "code",
   "execution_count": 60,
   "id": "9d34ebad-933c-4214-8615-176a0dfb5520",
   "metadata": {},
   "outputs": [
    {
     "name": "stdout",
     "output_type": "stream",
     "text": [
      "41 days 00:00:00\n"
     ]
    }
   ],
   "source": [
    "max_prod_date=df[df[\"Purchase order\"]==1075875][\"Production ready date\"].max()\n",
    "min_prod_date=df[df[\"Purchase order\"]==1075875][\"Production ready date\"].min()\n",
    "diff=max_prod_date-min_prod_date\n",
    "print(diff)"
   ]
  },
  {
   "cell_type": "markdown",
   "id": "a87e1bb4-b8a7-49cc-93a4-93ea658ce6dd",
   "metadata": {},
   "source": [
    "## Total number of unique Purchase Orders (POs) where the difference between the maximum and minimum Production Ready Date (PRD) is more than 7 days"
   ]
  },
  {
   "cell_type": "code",
   "execution_count": 128,
   "id": "66b99e8e-b7b7-4342-9f13-a7cfc50c70ca",
   "metadata": {},
   "outputs": [
    {
     "data": {
      "text/html": [
       "<div>\n",
       "<style scoped>\n",
       "    .dataframe tbody tr th:only-of-type {\n",
       "        vertical-align: middle;\n",
       "    }\n",
       "\n",
       "    .dataframe tbody tr th {\n",
       "        vertical-align: top;\n",
       "    }\n",
       "\n",
       "    .dataframe thead th {\n",
       "        text-align: right;\n",
       "    }\n",
       "</style>\n",
       "<table border=\"1\" class=\"dataframe\">\n",
       "  <thead>\n",
       "    <tr style=\"text-align: right;\">\n",
       "      <th></th>\n",
       "      <th>Batch Number</th>\n",
       "      <th>Date Created</th>\n",
       "      <th>Last Modified</th>\n",
       "      <th>Purchase order</th>\n",
       "      <th>Incoterms</th>\n",
       "      <th>Shipment Method</th>\n",
       "      <th>Delivery Location</th>\n",
       "      <th>Production ready date</th>\n",
       "    </tr>\n",
       "  </thead>\n",
       "  <tbody>\n",
       "    <tr>\n",
       "      <th>0</th>\n",
       "      <td>326780</td>\n",
       "      <td>02.08.2024 12:13</td>\n",
       "      <td>02.08.2024 12:13</td>\n",
       "      <td>1075467</td>\n",
       "      <td>EXW</td>\n",
       "      <td>Air</td>\n",
       "      <td>Maple Logistics Hub</td>\n",
       "      <td>08.08.2024</td>\n",
       "    </tr>\n",
       "    <tr>\n",
       "      <th>1</th>\n",
       "      <td>326779</td>\n",
       "      <td>02.08.2024 12:06</td>\n",
       "      <td>02.08.2024 12:06</td>\n",
       "      <td>1075467</td>\n",
       "      <td>EXW</td>\n",
       "      <td>Ocean</td>\n",
       "      <td>Stellar Fulfillment Center</td>\n",
       "      <td>01.11.2024</td>\n",
       "    </tr>\n",
       "  </tbody>\n",
       "</table>\n",
       "</div>"
      ],
      "text/plain": [
       "   Batch Number      Date Created     Last Modified  Purchase order Incoterms  \\\n",
       "0        326780  02.08.2024 12:13  02.08.2024 12:13         1075467       EXW   \n",
       "1        326779  02.08.2024 12:06  02.08.2024 12:06         1075467       EXW   \n",
       "\n",
       "  Shipment Method           Delivery Location Production ready date  \n",
       "0             Air         Maple Logistics Hub            08.08.2024  \n",
       "1           Ocean  Stellar Fulfillment Center            01.11.2024  "
      ]
     },
     "execution_count": 128,
     "metadata": {},
     "output_type": "execute_result"
    }
   ],
   "source": [
    "df.head(2)"
   ]
  },
  {
   "cell_type": "code",
   "execution_count": 163,
   "id": "79f7b81f-f018-4e68-8b4d-d8b4acf930fc",
   "metadata": {},
   "outputs": [
    {
     "name": "stderr",
     "output_type": "stream",
     "text": [
      "C:\\Users\\chinm\\AppData\\Local\\Temp\\ipykernel_30208\\450755988.py:1: UserWarning: Parsing dates in %d.%m.%Y format when dayfirst=False (the default) was specified. Pass `dayfirst=True` or specify a format to silence this warning.\n",
      "  df[\"Production ready date\"]=df[\"Production ready date\"].apply(pd.to_datetime)\n"
     ]
    }
   ],
   "source": [
    "## convert the production ready date to datetime format\n",
    "df[\"Production ready date\"]=df[\"Production ready date\"].apply(pd.to_datetime)"
   ]
  },
  {
   "cell_type": "code",
   "execution_count": 171,
   "id": "d29d4f71-bf78-4c21-8336-bd236454e6db",
   "metadata": {},
   "outputs": [
    {
     "name": "stdout",
     "output_type": "stream",
     "text": [
      "119\n"
     ]
    }
   ],
   "source": [
    "prd_max = df.groupby(\"Purchase order\")[\"Production ready date\"].max()\n",
    "prd_min = df.groupby(\"Purchase order\")[\"Production ready date\"].min()\n",
    "prd_diff = (prd_max - prd_min).dt.days\n",
    "\n",
    "pos_with_prd_diff_gt_7 = prd_diff[prd_diff > 7]\n",
    "\n",
    "total_pos = len(pos_with_prd_diff_gt_7)\n",
    "print(total_pos)"
   ]
  }
 ],
 "metadata": {
  "kernelspec": {
   "display_name": "Python 3 (ipykernel)",
   "language": "python",
   "name": "python3"
  },
  "language_info": {
   "codemirror_mode": {
    "name": "ipython",
    "version": 3
   },
   "file_extension": ".py",
   "mimetype": "text/x-python",
   "name": "python",
   "nbconvert_exporter": "python",
   "pygments_lexer": "ipython3",
   "version": "3.12.2"
  }
 },
 "nbformat": 4,
 "nbformat_minor": 5
}
